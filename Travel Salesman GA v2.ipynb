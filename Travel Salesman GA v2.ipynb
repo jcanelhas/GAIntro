{
 "cells": [
  {
   "cell_type": "markdown",
   "metadata": {},
   "source": [
    "# Traveling salesman with GA "
   ]
  },
  {
   "cell_type": "markdown",
   "metadata": {},
   "source": [
    "### This notebook covers the creation of a Genetic Algorithm to tackle the TSP problem"
   ]
  },
  {
   "cell_type": "markdown",
   "metadata": {},
   "source": [
    "Feel free to copy it and sugest improvements on github\n",
    "https://github.com/jcanelhas/GAIntro"
   ]
  },
  {
   "cell_type": "markdown",
   "metadata": {},
   "source": [
    "### Introduction to Genetic Algotithms (GA)"
   ]
  },
  {
   "cell_type": "markdown",
   "metadata": {},
   "source": [
    "Genetic algorithms are a heuristic search and optimization technique that uses a mechanism inspired in the way living organisms pass their traits from one generation to the next. The genetic algorithm as we know it was first presented by John Holland in the book Adaptation in Natural and Artificial Systems.<br>\n",
    "To create make an analogy with nature, so solutions are called individuals and a group of solutions is called a population.<br>\n",
    "With a Darwinian approach, GAs try to mimic evolution and natural selection. Evolution is achieved by using operations that create change into the individuals and consequently to the population, the main mechanisms of evolution are: crossover and mutation. Natural selection is attained by classifying individuals using a fitness function; this function will evaluate how good the individual is and will affect the chance it has to pass traits to the next generation. The fitness function is highly dependent on the problem being solved.<br>\n",
    "Genetic algorithms are appropriate for problems where an accurate solution (that may not be optimal) is needed and when there is no need for a real-time response.<br>\n",
    "<br><br>__Advantages of GA.__<br><br>\n",
    "Some benefits of Genetic algorithms are the ability to provide a very accurate result and usually provide an easy to understand solution to a problem, contrary to neural networks, where the inner workings are very hard to interpret.\n",
    "<br><br>__Limitations of GA.__<br><br>\n",
    "Some of the limitations of GA are: the cost of computing the fitness function, they are highly stochastic method, each run usually provides a different solution, so it is better to run several runs with the same parameters to obtain a solution, high dependence on the initial population that is randomly generated, high dependence on parameter settings, that is very hard to tweak, they do not guarantee to find the optimal solution.<br><br>\n",
    "<hl>"
   ]
  },
  {
   "cell_type": "markdown",
   "metadata": {},
   "source": [
    "### Module Import"
   ]
  },
  {
   "cell_type": "markdown",
   "metadata": {},
   "source": [
    "The imports go here"
   ]
  },
  {
   "cell_type": "code",
   "execution_count": null,
   "metadata": {},
   "outputs": [],
   "source": [
    "#numpy \n",
    "import numpy as np\n",
    "\n",
    "#some pretty plots\n",
    "import matplotlib as plt\n",
    "\n",
    "#notebook or inline \n",
    "%matplotlib inline\n",
    "plt.rcParams[\"figure.figsize\"]=(32,16)\n",
    "from IPython.core.display import HTML\n",
    "HTML(\"\"\"\n",
    "<style>\n",
    ".output_png {\n",
    "    display: table-cell;\n",
    "    text-align: middle;\n",
    "    vertical-align: middle;\n",
    "}\n",
    "</style>\n",
    "\"\"\")\n",
    "\n",
    "#general math and random imports\n",
    "from math import sqrt\n",
    "from random import randint\n",
    "from random import random\n",
    "\n",
    "#For some cool widgets\n",
    "from ipywidgets import FloatProgress\n",
    "from IPython.display import display"
   ]
  },
  {
   "cell_type": "markdown",
   "metadata": {},
   "source": [
    "### Read the cities file"
   ]
  },
  {
   "cell_type": "markdown",
   "metadata": {},
   "source": [
    "Read a text file into an array"
   ]
  },
  {
   "cell_type": "code",
   "execution_count": null,
   "metadata": {},
   "outputs": [],
   "source": [
    "city_list=np.loadtxt('200.txt').astype(int)\n",
    "print(str(len(city_list)) + \" cities read\")"
   ]
  },
  {
   "cell_type": "markdown",
   "metadata": {},
   "source": [
    "Show a plot of the map with the cities"
   ]
  },
  {
   "cell_type": "code",
   "execution_count": null,
   "metadata": {},
   "outputs": [],
   "source": [
    "for city in city_list:\n",
    "    plt.pyplot.plot(city[1],city[2],'.')\n",
    "    plt.pyplot.text(1,6000,'Cities')\n",
    "plt.pyplot.show()"
   ]
  },
  {
   "cell_type": "markdown",
   "metadata": {},
   "source": [
    "### Set the initial parameters"
   ]
  },
  {
   "cell_type": "code",
   "execution_count": null,
   "metadata": {},
   "outputs": [],
   "source": [
    "#Number of individuals on a population\n",
    "nindividuals=300\n",
    "#Number of cities being processed\n",
    "ncities=len(city_list)\n",
    "#Tournmentsize\n",
    "tournamentsize=10\n",
    "\n",
    "#crossover and mutation probability\n",
    "cx_probability=0.9\n",
    "mx_probability=0.5\n",
    "\n",
    "#maximum number of generations to run\n",
    "max_iterations=1000"
   ]
  },
  {
   "cell_type": "markdown",
   "metadata": {},
   "source": [
    "## Define general functions"
   ]
  },
  {
   "cell_type": "markdown",
   "metadata": {},
   "source": [
    "### Euclidean Distance"
   ]
  },
  {
   "cell_type": "markdown",
   "metadata": {},
   "source": [
    "The euclidian distance is calculated using $$d=\\sqrt{(x_1-x_2)^2+(y_1-y_2)^2}$$"
   ]
  },
  {
   "cell_type": "code",
   "execution_count": null,
   "metadata": {},
   "outputs": [],
   "source": [
    "def euclidian_distance(x1,y1,x2,y2):\n",
    "    dist = sqrt((x1-x2)**2+(y1-y2)**2)\n",
    "    return dist"
   ]
  },
  {
   "cell_type": "markdown",
   "metadata": {},
   "source": [
    "### Calculate fitness"
   ]
  },
  {
   "cell_type": "markdown",
   "metadata": {},
   "source": [
    "To calculate the fitness we will add the euclidian distance from the first city to the last through the path presented by the individual<br><br>\n",
    "$$fitness=\\sum_{i=0}^{ncities-1} \\sqrt{(x_1-x_2)^2+(y_1-y_2)^2} $$\n",
    "<br> where :\n",
    "$$(x_1,y_1)$$ and $$(x_2,y_2)$$ Are the coordinates of the cities"
   ]
  },
  {
   "cell_type": "code",
   "execution_count": null,
   "metadata": {},
   "outputs": [],
   "source": [
    "def calculate_fitness(individual):\n",
    "    fitness=0\n",
    "    #First element\n",
    "    fitness=euclidian_distance(city_list[individual[0]][1],city_list[individual[0]][2],\n",
    "                               city_list[individual[1]][1],city_list[individual[0]][2])\n",
    "    for i in range(1,len(individual)-1):\n",
    "        fitness=fitness+euclidian_distance(city_list[individual[i]][1],city_list[individual[i]][2],\n",
    "                                           city_list[individual[i+1]][1],city_list[individual[i+1]][2])\n",
    "    return fitness"
   ]
  },
  {
   "cell_type": "markdown",
   "metadata": {},
   "source": [
    "### Mutation"
   ]
  },
  {
   "cell_type": "code",
   "execution_count": null,
   "metadata": {},
   "outputs": [],
   "source": [
    "def mutate(individual):\n",
    "    #reverse mutation\n",
    "    init_pos=np.random.randint(0,len(individual))\n",
    "    end_pos=np.random.randint(init_pos,len(individual)+1)\n",
    "    mutated_individual= np.concatenate((individual[:init_pos],\n",
    "                                        individual[init_pos:end_pos][::-1],\n",
    "                                        individual[end_pos:]),axis=0)\n",
    "    return mutated_individual"
   ]
  },
  {
   "cell_type": "markdown",
   "metadata": {},
   "source": [
    "### Crossover"
   ]
  },
  {
   "cell_type": "code",
   "execution_count": null,
   "metadata": {},
   "outputs": [],
   "source": [
    "def crossover(individual1,individual2):\n",
    "    splitpoint=randint(0,len(individual1)-1)\n",
    "    result1=np.copy(individual1)\n",
    "    result2=np.copy(individual2)\n",
    "    currpos=splitpoint\n",
    "    firstval=individual1[splitpoint]\n",
    "    newpos=0\n",
    "    \n",
    "    cycleover=False\n",
    "    \n",
    "    while True:\n",
    "         \n",
    "            \n",
    "        result1[currpos]=individual2[currpos]\n",
    "        result2[currpos]=individual1[currpos]\n",
    "\n",
    "        newpos=np.where(individual1==individual2[currpos])\n",
    "\n",
    "        currval=individual2[currpos]\n",
    "\n",
    "        if firstval==currval:#individual2[currpos]:\n",
    "\n",
    "            cycleover=True        \n",
    "\n",
    "        currpos=newpos\n",
    "        if cycleover:\n",
    "            break\n",
    "\n",
    "   \n",
    "    return(result1,result2)"
   ]
  },
  {
   "cell_type": "markdown",
   "metadata": {},
   "source": [
    "### Tournament Selection"
   ]
  },
  {
   "cell_type": "markdown",
   "metadata": {},
   "source": [
    "Tournament selections randomly picks a number of individuals and compares them, the one with the best fitness is selected. This method is fast compared to other methods because there is no need to evaluate EVERY individual in the population."
   ]
  },
  {
   "cell_type": "code",
   "execution_count": null,
   "metadata": {},
   "outputs": [],
   "source": [
    "def tournament_selection(pop, tournament_size):\n",
    "    \n",
    "    champion=population[np.random.randint(len(pop))]\n",
    "    champion_fitness=calculate_fitness(champion)\n",
    "    \n",
    "    for i in range(0,tournament_size):\n",
    "        tmpind=population[np.random.randint(len(pop))]\n",
    "        tmpind_fitness=calculate_fitness(tmpind)\n",
    "        if tmpind_fitness<champion_fitness:\n",
    "            champion=tmpind[:]\n",
    "            champion_fitness=tmpind_fitness\n",
    "    return champion"
   ]
  },
  {
   "cell_type": "markdown",
   "metadata": {},
   "source": [
    "### Initialization"
   ]
  },
  {
   "cell_type": "code",
   "execution_count": null,
   "metadata": {},
   "outputs": [],
   "source": [
    "population=np.zeros((nindividuals,ncities),dtype=int)\n",
    "for individual in range(0,nindividuals):\n",
    "    population[individual]=np.arange(ncities)\n",
    "    np.random.shuffle(population[individual])"
   ]
  },
  {
   "cell_type": "code",
   "execution_count": null,
   "metadata": {},
   "outputs": [],
   "source": [
    "#lets see the population\n",
    "population"
   ]
  },
  {
   "cell_type": "code",
   "execution_count": null,
   "metadata": {},
   "outputs": [],
   "source": [
    "def draw_scatter_plot(texto=''):\n",
    "    ##prepare scatter\n",
    "    xx=list()\n",
    "    xx[:]=()\n",
    "    yy=list()\n",
    "    yy[:]=()\n",
    "\n",
    "    best_individual=0\n",
    "    best_individual_fitness= calculate_fitness(population[0])\n",
    "\n",
    "    tot=0\n",
    "    \n",
    "    for i in range(0,nindividuals):\n",
    "        cfit=calculate_fitness(population[i])\n",
    "        tot=tot+cfit\n",
    "        if cfit<best_individual_fitness:\n",
    "            best_individual=i\n",
    "            best_individual_fitness=calculate_fitness(population[i])\n",
    "\n",
    "\n",
    "    for i in population[best_individual]:\n",
    "        xx.append(city_list[i][1])\n",
    "        yy.append(city_list[i][2])\n",
    "\n",
    "    print(\"Best individual is number \" + str(best_individual) + \" with a fitness of \" + str(best_individual_fitness))\n",
    "    print(\"Average fitness is \" + str(tot/len(population)))\n",
    "\n",
    "    plt.pyplot.scatter(xx,yy,c='r',marker='o')\n",
    "    plt.pyplot.plot(xx,yy)\n",
    "    \n",
    "    #This is hardcoded to the cities example if you are using another file make sure the positions are still valid\n",
    "    plt.pyplot.text(1,6000,texto + '  Best fitness :' + str(best_individual_fitness))\n",
    "    plt.pyplot.show()"
   ]
  },
  {
   "cell_type": "code",
   "execution_count": null,
   "metadata": {},
   "outputs": [],
   "source": [
    "#this is the best solution on the randomized initial population\n",
    "draw_scatter_plot()"
   ]
  },
  {
   "cell_type": "markdown",
   "metadata": {},
   "source": [
    "# The Genetic Algorithm"
   ]
  },
  {
   "cell_type": "markdown",
   "metadata": {},
   "source": [
    "The genetic algorithm works as following<br>\n",
    "1. Create a population P of n random individuals.<br>\n",
    "2. Repeat until the termination criteria are satisfied.<br>\n",
    "2.1. Calculate fitness of all individuals4.<br>\n",
    "2.2. Create an empty population P'.<br>\n",
    "2.3. Repeat until P' is filled.<br>\n",
    "2.3.1. Choose a genetic operator, (crossover with probability Pc, otherwise, reproduction with probability 1-Pc<br>\n",
    "2.3.2. Select two individuals with a selection algorithm<br>\n",
    "2.3.3. Apply operator selected in 2.3.1 to the individuals selected in 2.3.2.<br>\n",
    "2.3.4. Apply mutation to individuals obtained in 2.3.3 with a probability of Pm.<br>\n",
    "2.3.5. Insert resulting individuals into P'<br>\n",
    "2.3.6. Iterate until P' contains n individuals.<br>\n",
    "2.4. Replace P with P'.<br>\n",
    "3. Return the best individual.<br>"
   ]
  },
  {
   "cell_type": "code",
   "execution_count": null,
   "metadata": {
    "scrolled": false
   },
   "outputs": [],
   "source": [
    "#initialize the list of boxplot values\n",
    "bxplot=list()\n",
    "bxplot[:]=[]\n",
    "\n",
    "#max_iterations=max_iterations\n",
    "\n",
    "#this is used to show a progressbar as our GA runs\n",
    "f = FloatProgress(min=0, max=max_iterations) # instantiate the bar\n",
    "display(f) # display the bar\n",
    "f.value=0\n",
    "\n",
    "#The main GA loop\n",
    "for j in range(0,max_iterations):\n",
    "    #initialize empty population\n",
    "    tmp_population=np.zeros((nindividuals,ncities),dtype=int)\n",
    "    \n",
    "    bxpltseries=list()\n",
    "    bxpltseries[:]=[]\n",
    " \n",
    "    #Populate the temporary population\n",
    "    for i in range(0,int(nindividuals/2)):\n",
    "        tmpa = tournament_selection(population,tournamentsize)\n",
    "        tmpa_fitness = calculate_fitness(tmpa)\n",
    "\n",
    "        tmpb = tournament_selection(population,tournamentsize)\n",
    "        tmpb_fitness = calculate_fitness(tmpb)\n",
    "        \n",
    "        #Crossover or Reproduction\n",
    "        if cx_probability>random():\n",
    "            tmpc,tmpd=crossover(tmpa,tmpb)\n",
    "        else:\n",
    "            tmpc,tmpd=tmpa[:],tmpb[:]\n",
    "        \n",
    "        #this is used to create a boxplot in the end of the runs\n",
    "        bxpltseries.append(tmpa_fitness)\n",
    "        bxpltseries.append(tmpb_fitness)\n",
    "\n",
    "        #Mutation\n",
    "        if mx_probability>random():\n",
    "            tmp2=mutate(tmpc)\n",
    "            tmp_population[i]=tmp2[:]\n",
    "        \n",
    "            tmp3=mutate(tmpd)\n",
    "            tmp_population[int(nindividuals/2)+i]=tmp3[:]\n",
    "        \n",
    "        else:\n",
    "            tmp_population[i]=tmpc[:]\n",
    "            tmp_population[int(nindividuals/2)+i]=tmpd[:]\n",
    "    \n",
    "    \n",
    "    #change here to make the plots more or less frequent\n",
    "    # j%5 prints a plot every 5 generations, j%10 prints one every 10 generations\n",
    "    if j%50==0:\n",
    "        print('------' + str(j))\n",
    "        bxplot.append(bxpltseries)\n",
    "        draw_scatter_plot('Generation : ' + str(j))\n",
    "    \n",
    "    population=tmp_population[:]\n",
    "    f.value += 1\n",
    "    \n",
    "f.close() #hide progressbar"
   ]
  },
  {
   "cell_type": "markdown",
   "metadata": {},
   "source": [
    "### Visualize the resulting fitnesses"
   ]
  },
  {
   "cell_type": "code",
   "execution_count": null,
   "metadata": {},
   "outputs": [],
   "source": [
    "plt.pyplot.boxplot(bxplot)\n",
    "\n",
    "plt.pyplot.show()"
   ]
  },
  {
   "cell_type": "markdown",
   "metadata": {},
   "source": [
    "The figure above shows a typical hockeystick plot."
   ]
  },
  {
   "cell_type": "code",
   "execution_count": null,
   "metadata": {},
   "outputs": [],
   "source": [
    "#make this image BIG\n",
    "plt.rcParams[\"figure.figsize\"]=(64,32)\n",
    "plt.pyplot.boxplot(bxplot)\n",
    "\n",
    "plt.pyplot.show()"
   ]
  },
  {
   "cell_type": "markdown",
   "metadata": {},
   "source": [
    "Hope this was usefull to you, please feel free to contact the author at jcanelhas@gmail.com"
   ]
  }
 ],
 "metadata": {
  "anaconda-cloud": {},
  "kernelspec": {
   "display_name": "Python [default]",
   "language": "python",
   "name": "python3"
  },
  "language_info": {
   "codemirror_mode": {
    "name": "ipython",
    "version": 3
   },
   "file_extension": ".py",
   "mimetype": "text/x-python",
   "name": "python",
   "nbconvert_exporter": "python",
   "pygments_lexer": "ipython3",
   "version": "3.6.4"
  }
 },
 "nbformat": 4,
 "nbformat_minor": 2
}
